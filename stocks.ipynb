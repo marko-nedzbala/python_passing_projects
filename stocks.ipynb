{
 "cells": [
  {
   "cell_type": "code",
   "execution_count": 2,
   "id": "2ca1d050-b06a-4d49-91d9-fc021af3b607",
   "metadata": {},
   "outputs": [
    {
     "name": "stderr",
     "output_type": "stream",
     "text": [
      "Matplotlib is building the font cache; this may take a moment.\n"
     ]
    }
   ],
   "source": [
    "import requests\n",
    "import pandas as pd\n",
    "import matplotlib.pyplot as plt"
   ]
  },
  {
   "cell_type": "code",
   "execution_count": 22,
   "id": "5a30a7ed-8b58-435e-8868-b31164546aec",
   "metadata": {},
   "outputs": [],
   "source": [
    "%matplotlib inline"
   ]
  },
  {
   "cell_type": "code",
   "execution_count": 3,
   "id": "455ab5a3-96ec-48b3-9c9a-0984d603a26b",
   "metadata": {},
   "outputs": [],
   "source": [
    "demo_request = requests.get(r'https://www.alphavantage.co/query?function=TIME_SERIES_DAILY&symbol=IBM&outputsize=full&apikey=demo')"
   ]
  },
  {
   "cell_type": "code",
   "execution_count": 4,
   "id": "3fce9404-92a6-4de1-bf1d-66817addb02e",
   "metadata": {
    "scrolled": true
   },
   "outputs": [],
   "source": [
    "demo_request.json()\n",
    "demo_json = demo_request.json()"
   ]
  },
  {
   "cell_type": "code",
   "execution_count": 5,
   "id": "d6060694-a5ba-4894-b291-83f598a6d58d",
   "metadata": {},
   "outputs": [
    {
     "data": {
      "text/html": [
       "<div>\n",
       "<style scoped>\n",
       "    .dataframe tbody tr th:only-of-type {\n",
       "        vertical-align: middle;\n",
       "    }\n",
       "\n",
       "    .dataframe tbody tr th {\n",
       "        vertical-align: top;\n",
       "    }\n",
       "\n",
       "    .dataframe thead th {\n",
       "        text-align: right;\n",
       "    }\n",
       "</style>\n",
       "<table border=\"1\" class=\"dataframe\">\n",
       "  <thead>\n",
       "    <tr style=\"text-align: right;\">\n",
       "      <th></th>\n",
       "      <th>1. open</th>\n",
       "      <th>2. high</th>\n",
       "      <th>3. low</th>\n",
       "      <th>4. close</th>\n",
       "      <th>5. volume</th>\n",
       "    </tr>\n",
       "  </thead>\n",
       "  <tbody>\n",
       "    <tr>\n",
       "      <th>2025-04-03</th>\n",
       "      <td>242.7100</td>\n",
       "      <td>250.6100</td>\n",
       "      <td>242.5300</td>\n",
       "      <td>243.4900</td>\n",
       "      <td>5309626</td>\n",
       "    </tr>\n",
       "    <tr>\n",
       "      <th>2025-04-02</th>\n",
       "      <td>248.2200</td>\n",
       "      <td>252.7900</td>\n",
       "      <td>247.2300</td>\n",
       "      <td>249.9800</td>\n",
       "      <td>4080832</td>\n",
       "    </tr>\n",
       "    <tr>\n",
       "      <th>2025-04-01</th>\n",
       "      <td>248.0300</td>\n",
       "      <td>250.6200</td>\n",
       "      <td>243.4900</td>\n",
       "      <td>250.3400</td>\n",
       "      <td>4413139</td>\n",
       "    </tr>\n",
       "    <tr>\n",
       "      <th>2025-03-31</th>\n",
       "      <td>242.7400</td>\n",
       "      <td>250.8900</td>\n",
       "      <td>242.4900</td>\n",
       "      <td>248.6600</td>\n",
       "      <td>6794972</td>\n",
       "    </tr>\n",
       "    <tr>\n",
       "      <th>2025-03-28</th>\n",
       "      <td>246.2700</td>\n",
       "      <td>247.5700</td>\n",
       "      <td>242.0700</td>\n",
       "      <td>244.0000</td>\n",
       "      <td>3125594</td>\n",
       "    </tr>\n",
       "    <tr>\n",
       "      <th>...</th>\n",
       "      <td>...</td>\n",
       "      <td>...</td>\n",
       "      <td>...</td>\n",
       "      <td>...</td>\n",
       "      <td>...</td>\n",
       "    </tr>\n",
       "    <tr>\n",
       "      <th>1999-11-05</th>\n",
       "      <td>92.7500</td>\n",
       "      <td>92.9400</td>\n",
       "      <td>90.1900</td>\n",
       "      <td>90.2500</td>\n",
       "      <td>13737600</td>\n",
       "    </tr>\n",
       "    <tr>\n",
       "      <th>1999-11-04</th>\n",
       "      <td>94.4400</td>\n",
       "      <td>94.4400</td>\n",
       "      <td>90.0000</td>\n",
       "      <td>91.5600</td>\n",
       "      <td>16697600</td>\n",
       "    </tr>\n",
       "    <tr>\n",
       "      <th>1999-11-03</th>\n",
       "      <td>95.8700</td>\n",
       "      <td>95.9400</td>\n",
       "      <td>93.5000</td>\n",
       "      <td>94.3700</td>\n",
       "      <td>10369100</td>\n",
       "    </tr>\n",
       "    <tr>\n",
       "      <th>1999-11-02</th>\n",
       "      <td>96.7500</td>\n",
       "      <td>96.8100</td>\n",
       "      <td>93.6900</td>\n",
       "      <td>94.8100</td>\n",
       "      <td>11105400</td>\n",
       "    </tr>\n",
       "    <tr>\n",
       "      <th>1999-11-01</th>\n",
       "      <td>98.5000</td>\n",
       "      <td>98.8100</td>\n",
       "      <td>96.3700</td>\n",
       "      <td>96.7500</td>\n",
       "      <td>9551800</td>\n",
       "    </tr>\n",
       "  </tbody>\n",
       "</table>\n",
       "<p>6395 rows × 5 columns</p>\n",
       "</div>"
      ],
      "text/plain": [
       "             1. open   2. high    3. low  4. close 5. volume\n",
       "2025-04-03  242.7100  250.6100  242.5300  243.4900   5309626\n",
       "2025-04-02  248.2200  252.7900  247.2300  249.9800   4080832\n",
       "2025-04-01  248.0300  250.6200  243.4900  250.3400   4413139\n",
       "2025-03-31  242.7400  250.8900  242.4900  248.6600   6794972\n",
       "2025-03-28  246.2700  247.5700  242.0700  244.0000   3125594\n",
       "...              ...       ...       ...       ...       ...\n",
       "1999-11-05   92.7500   92.9400   90.1900   90.2500  13737600\n",
       "1999-11-04   94.4400   94.4400   90.0000   91.5600  16697600\n",
       "1999-11-03   95.8700   95.9400   93.5000   94.3700  10369100\n",
       "1999-11-02   96.7500   96.8100   93.6900   94.8100  11105400\n",
       "1999-11-01   98.5000   98.8100   96.3700   96.7500   9551800\n",
       "\n",
       "[6395 rows x 5 columns]"
      ]
     },
     "execution_count": 5,
     "metadata": {},
     "output_type": "execute_result"
    }
   ],
   "source": [
    "demo_df = pd.DataFrame.from_dict(demo_json['Time Series (Daily)'], orient='index')\n",
    "demo_df\n",
    "\n",
    "# rows 1 to 5, columns 2 to 4\n",
    "# demo_df.iloc[1: 5, 2:4]\n",
    "\n",
    "# demo_df.loc['2025-04-2': '2025-03-25', '1. open': '4. close']\n",
    "# demo_df.loc['2025-04-02': '2025-03-25', ['1. open', '4. close']]\n",
    "\n"
   ]
  },
  {
   "cell_type": "code",
   "execution_count": 19,
   "id": "aa524f9b-c24c-4cb4-b30e-f6342e452ef9",
   "metadata": {},
   "outputs": [],
   "source": [
    "ohlc_df = demo_df.loc[: , '1. open': '4. close'].apply(pd.to_numeric)"
   ]
  },
  {
   "cell_type": "code",
   "execution_count": 30,
   "id": "51571499-53fc-4812-9d70-2676c804c9a3",
   "metadata": {},
   "outputs": [
    {
     "data": {
      "text/plain": [
       "<Axes: >"
      ]
     },
     "execution_count": 30,
     "metadata": {},
     "output_type": "execute_result"
    },
    {
     "data": {
      "image/png": "[encoded data removed]",
      "text/plain": [
       "<Figure size 640x480 with 1 Axes>"
      ]
     },
     "metadata": {},
     "output_type": "display_data"
    }
   ],
   "source": [
    "ohlc_df['4. close'].plot()"
   ]
  },
  {
   "cell_type": "code",
   "execution_count": 29,
   "id": "48299864-994b-4aa9-8f80-a997a3c3aa97",
   "metadata": {},
   "outputs": [
    {
     "data": {
      "text/plain": [
       "<Axes: >"
      ]
     },
     "execution_count": 29,
     "metadata": {},
     "output_type": "execute_result"
    },
    {
     "data": {
      "image/png": "[encoded data removed]",
      "text/plain": [
       "<Figure size 640x480 with 1 Axes>"
      ]
     },
     "metadata": {},
     "output_type": "display_data"
    }
   ],
   "source": [
    "ohlc_df['4. close'].pct_change().plot()"
   ]
  },
  {
   "cell_type": "code",
   "execution_count": 40,
   "id": "738b8c68-2be7-4dce-ae08-2f5bad3e6805",
   "metadata": {},
   "outputs": [
    {
     "data": {
      "text/html": [
       "<div>\n",
       "<style scoped>\n",
       "    .dataframe tbody tr th:only-of-type {\n",
       "        vertical-align: middle;\n",
       "    }\n",
       "\n",
       "    .dataframe tbody tr th {\n",
       "        vertical-align: top;\n",
       "    }\n",
       "\n",
       "    .dataframe thead th {\n",
       "        text-align: right;\n",
       "    }\n",
       "</style>\n",
       "<table border=\"1\" class=\"dataframe\">\n",
       "  <thead>\n",
       "    <tr style=\"text-align: right;\">\n",
       "      <th></th>\n",
       "      <th>Ticker</th>\n",
       "      <th>Shares</th>\n",
       "      <th>Purchase Price</th>\n",
       "    </tr>\n",
       "  </thead>\n",
       "  <tbody>\n",
       "    <tr>\n",
       "      <th>0</th>\n",
       "      <td>IBM</td>\n",
       "      <td>150</td>\n",
       "      <td>100</td>\n",
       "    </tr>\n",
       "  </tbody>\n",
       "</table>\n",
       "</div>"
      ],
      "text/plain": [
       "  Ticker  Shares  Purchase Price\n",
       "0    IBM     150             100"
      ]
     },
     "execution_count": 40,
     "metadata": {},
     "output_type": "execute_result"
    }
   ],
   "source": [
    "shares = pd.DataFrame(columns=['Ticker', 'Shares', 'Purchase Price'])\n",
    "shares['Ticker'] = ['IBM']\n",
    "shares['Shares'] = [150]\n",
    "shares['Purchase Price'] = [100]\n",
    "shares"
   ]
  },
  {
   "cell_type": "code",
   "execution_count": 56,
   "id": "3f139962-d16a-4fa8-8e1e-9fd84814c151",
   "metadata": {},
   "outputs": [
    {
     "ename": "ValueError",
     "evalue": "Incompatible indexer with Series",
     "output_type": "error",
     "traceback": [
      "\u001b[31m---------------------------------------------------------------------------\u001b[39m",
      "\u001b[31mValueError\u001b[39m                                Traceback (most recent call last)",
      "\u001b[36mCell\u001b[39m\u001b[36m \u001b[39m\u001b[32mIn[56]\u001b[39m\u001b[32m, line 2\u001b[39m\n\u001b[32m      1\u001b[39m portfolio = pd.DataFrame(columns=[\u001b[33m'\u001b[39m\u001b[33mTicker\u001b[39m\u001b[33m'\u001b[39m, \u001b[33m'\u001b[39m\u001b[33mTotal Value\u001b[39m\u001b[33m'\u001b[39m, \u001b[33m'\u001b[39m\u001b[33mGain\u001b[39m\u001b[33m'\u001b[39m])\n\u001b[32m----> \u001b[39m\u001b[32m2\u001b[39m \u001b[43mportfolio\u001b[49m\u001b[43m.\u001b[49m\u001b[43mloc\u001b[49m\u001b[43m[\u001b[49m\u001b[33;43m'\u001b[39;49m\u001b[33;43mIBM\u001b[39;49m\u001b[33;43m'\u001b[39;49m\u001b[43m,\u001b[49m\u001b[43m \u001b[49m\u001b[33;43m'\u001b[39;49m\u001b[33;43mTotal Value\u001b[39;49m\u001b[33;43m'\u001b[39;49m\u001b[43m]\u001b[49m = shares.loc[:, \u001b[33m'\u001b[39m\u001b[33mShares\u001b[39m\u001b[33m'\u001b[39m] * ohlc_df.loc[\u001b[33m'\u001b[39m\u001b[33m2025-04-03\u001b[39m\u001b[33m'\u001b[39m, \u001b[33m'\u001b[39m\u001b[33m4. close\u001b[39m\u001b[33m'\u001b[39m]\n\u001b[32m      3\u001b[39m y = shares.loc[:, \u001b[33m'\u001b[39m\u001b[33mShares\u001b[39m\u001b[33m'\u001b[39m] * ohlc_df.loc[\u001b[33m'\u001b[39m\u001b[33m2025-04-03\u001b[39m\u001b[33m'\u001b[39m, \u001b[33m'\u001b[39m\u001b[33m4. close\u001b[39m\u001b[33m'\u001b[39m]\n\u001b[32m      4\u001b[39m y\n",
      "\u001b[36mFile \u001b[39m\u001b[32m~/Documents/GitHub/python_passing_projects/.venv/lib/python3.13/site-packages/pandas/core/indexing.py:911\u001b[39m, in \u001b[36m_LocationIndexer.__setitem__\u001b[39m\u001b[34m(self, key, value)\u001b[39m\n\u001b[32m    908\u001b[39m \u001b[38;5;28mself\u001b[39m._has_valid_setitem_indexer(key)\n\u001b[32m    910\u001b[39m iloc = \u001b[38;5;28mself\u001b[39m \u001b[38;5;28;01mif\u001b[39;00m \u001b[38;5;28mself\u001b[39m.name == \u001b[33m\"\u001b[39m\u001b[33miloc\u001b[39m\u001b[33m\"\u001b[39m \u001b[38;5;28;01melse\u001b[39;00m \u001b[38;5;28mself\u001b[39m.obj.iloc\n\u001b[32m--> \u001b[39m\u001b[32m911\u001b[39m \u001b[43miloc\u001b[49m\u001b[43m.\u001b[49m\u001b[43m_setitem_with_indexer\u001b[49m\u001b[43m(\u001b[49m\u001b[43mindexer\u001b[49m\u001b[43m,\u001b[49m\u001b[43m \u001b[49m\u001b[43mvalue\u001b[49m\u001b[43m,\u001b[49m\u001b[43m \u001b[49m\u001b[38;5;28;43mself\u001b[39;49m\u001b[43m.\u001b[49m\u001b[43mname\u001b[49m\u001b[43m)\u001b[49m\n",
      "\u001b[36mFile \u001b[39m\u001b[32m~/Documents/GitHub/python_passing_projects/.venv/lib/python3.13/site-packages/pandas/core/indexing.py:1944\u001b[39m, in \u001b[36m_iLocIndexer._setitem_with_indexer\u001b[39m\u001b[34m(self, indexer, value, name)\u001b[39m\n\u001b[32m   1942\u001b[39m     \u001b[38;5;28mself\u001b[39m._setitem_with_indexer_split_path(indexer, value, name)\n\u001b[32m   1943\u001b[39m \u001b[38;5;28;01melse\u001b[39;00m:\n\u001b[32m-> \u001b[39m\u001b[32m1944\u001b[39m     \u001b[38;5;28;43mself\u001b[39;49m\u001b[43m.\u001b[49m\u001b[43m_setitem_single_block\u001b[49m\u001b[43m(\u001b[49m\u001b[43mindexer\u001b[49m\u001b[43m,\u001b[49m\u001b[43m \u001b[49m\u001b[43mvalue\u001b[49m\u001b[43m,\u001b[49m\u001b[43m \u001b[49m\u001b[43mname\u001b[49m\u001b[43m)\u001b[49m\n",
      "\u001b[36mFile \u001b[39m\u001b[32m~/Documents/GitHub/python_passing_projects/.venv/lib/python3.13/site-packages/pandas/core/indexing.py:2189\u001b[39m, in \u001b[36m_iLocIndexer._setitem_single_block\u001b[39m\u001b[34m(self, indexer, value, name)\u001b[39m\n\u001b[32m   2183\u001b[39m \u001b[38;5;28;01mfrom\u001b[39;00m\u001b[38;5;250m \u001b[39m\u001b[34;01mpandas\u001b[39;00m\u001b[38;5;250m \u001b[39m\u001b[38;5;28;01mimport\u001b[39;00m Series\n\u001b[32m   2185\u001b[39m \u001b[38;5;28;01mif\u001b[39;00m (\u001b[38;5;28misinstance\u001b[39m(value, ABCSeries) \u001b[38;5;129;01mand\u001b[39;00m name != \u001b[33m\"\u001b[39m\u001b[33miloc\u001b[39m\u001b[33m\"\u001b[39m) \u001b[38;5;129;01mor\u001b[39;00m \u001b[38;5;28misinstance\u001b[39m(value, \u001b[38;5;28mdict\u001b[39m):\n\u001b[32m   2186\u001b[39m     \u001b[38;5;66;03m# TODO(EA): ExtensionBlock.setitem this causes issues with\u001b[39;00m\n\u001b[32m   2187\u001b[39m     \u001b[38;5;66;03m# setting for extensionarrays that store dicts. Need to decide\u001b[39;00m\n\u001b[32m   2188\u001b[39m     \u001b[38;5;66;03m# if it's worth supporting that.\u001b[39;00m\n\u001b[32m-> \u001b[39m\u001b[32m2189\u001b[39m     value = \u001b[38;5;28;43mself\u001b[39;49m\u001b[43m.\u001b[49m\u001b[43m_align_series\u001b[49m\u001b[43m(\u001b[49m\u001b[43mindexer\u001b[49m\u001b[43m,\u001b[49m\u001b[43m \u001b[49m\u001b[43mSeries\u001b[49m\u001b[43m(\u001b[49m\u001b[43mvalue\u001b[49m\u001b[43m)\u001b[49m\u001b[43m)\u001b[49m\n\u001b[32m   2191\u001b[39m info_axis = \u001b[38;5;28mself\u001b[39m.obj._info_axis_number\n\u001b[32m   2192\u001b[39m item_labels = \u001b[38;5;28mself\u001b[39m.obj._get_axis(info_axis)\n",
      "\u001b[36mFile \u001b[39m\u001b[32m~/Documents/GitHub/python_passing_projects/.venv/lib/python3.13/site-packages/pandas/core/indexing.py:2455\u001b[39m, in \u001b[36m_iLocIndexer._align_series\u001b[39m\u001b[34m(self, indexer, ser, multiindex_indexer, using_cow)\u001b[39m\n\u001b[32m   2451\u001b[39m         \u001b[38;5;28;01mreturn\u001b[39;00m ser._values.copy()\n\u001b[32m   2453\u001b[39m     \u001b[38;5;28;01mreturn\u001b[39;00m ser.reindex(ax)._values\n\u001b[32m-> \u001b[39m\u001b[32m2455\u001b[39m \u001b[38;5;28;01mraise\u001b[39;00m \u001b[38;5;167;01mValueError\u001b[39;00m(\u001b[33m\"\u001b[39m\u001b[33mIncompatible indexer with Series\u001b[39m\u001b[33m\"\u001b[39m)\n",
      "\u001b[31mValueError\u001b[39m: Incompatible indexer with Series"
     ]
    }
   ],
   "source": [
    "portfolio = pd.DataFrame(columns=['Ticker', 'Total Value', 'Gain'])\n",
    "portfolio.loc['IBM', 'Total Value'] = shares.loc[:, 'Shares'] * ohlc_df.loc['2025-04-03', '4. close']\n",
    "y = shares.loc[:, 'Shares'] * ohlc_df.loc['2025-04-03', '4. close']\n",
    "\n",
    "# portfolio\n",
    "# shares.loc[:, 'Shares']"
   ]
  },
  {
   "cell_type": "code",
   "execution_count": null,
   "id": "b4d011ad-6409-4bc6-8bcb-6955ecc0c93c",
   "metadata": {},
   "outputs": [],
   "source": []
  },
  {
   "cell_type": "code",
   "execution_count": null,
   "id": "aac01512-29f0-4489-ae3c-4f1c6e2049e4",
   "metadata": {},
   "outputs": [],
   "source": []
  },
  {
   "cell_type": "code",
   "execution_count": null,
   "id": "97cbfb0d-6bd0-4cf3-a56b-09b86028517e",
   "metadata": {},
   "outputs": [],
   "source": []
  },
  {
   "cell_type": "code",
   "execution_count": null,
   "id": "3f1c3185-efda-422d-8588-5cbf8d04a93a",
   "metadata": {},
   "outputs": [],
   "source": []
  },
  {
   "cell_type": "code",
   "execution_count": null,
   "id": "40fd241f-2675-4cac-91e6-0a732799fafe",
   "metadata": {},
   "outputs": [],
   "source": []
  },
  {
   "cell_type": "code",
   "execution_count": null,
   "id": "d783de68-9e9f-4564-b5d4-74bb289a4bbd",
   "metadata": {},
   "outputs": [],
   "source": []
  },
  {
   "cell_type": "code",
   "execution_count": null,
   "id": "0b28cfd0-126b-4b28-ab71-f2ec1dd16cf1",
   "metadata": {},
   "outputs": [],
   "source": []
  }
 ],
 "metadata": {
  "kernelspec": {
   "display_name": "Python 3 (ipykernel)",
   "language": "python",
   "name": "python3"
  },
  "language_info": {
   "codemirror_mode": {
    "name": "ipython",
    "version": 3
   },
   "file_extension": ".py",
   "mimetype": "text/x-python",
   "name": "python",
   "nbconvert_exporter": "python",
   "pygments_lexer": "ipython3",
   "version": "3.13.1"
  }
 },
 "nbformat": 4,
 "nbformat_minor": 5
}
