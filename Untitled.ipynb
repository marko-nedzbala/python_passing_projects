{
 "cells": [
  {
   "cell_type": "code",
   "execution_count": null,
   "id": "2ca1d050-b06a-4d49-91d9-fc021af3b607",
   "metadata": {},
   "outputs": [],
   "source": []
  }
 ],
 "metadata": {
  "kernelspec": {
   "display_name": "",
   "name": ""
  },
  "language_info": {
   "name": ""
  }
 },
 "nbformat": 4,
 "nbformat_minor": 5
}
