{
 "cells": [
  {
   "cell_type": "code",
   "execution_count": 2,
   "id": "92cb178c-cbb2-41fc-bacf-e1c1d703192a",
   "metadata": {},
   "outputs": [
    {
     "name": "stdout",
     "output_type": "stream",
     "text": [
      "Chapter01\n"
     ]
    }
   ],
   "source": [
    "print('Chapter01')"
   ]
  },
  {
   "cell_type": "code",
   "execution_count": null,
   "id": "34aa1a64-2854-490d-b08a-8c985ca3a07e",
   "metadata": {},
   "outputs": [],
   "source": []
  }
 ],
 "metadata": {
  "kernelspec": {
   "display_name": "Python 3 (ipykernel)",
   "language": "python",
   "name": "python3"
  },
  "language_info": {
   "codemirror_mode": {
    "name": "ipython",
    "version": 3
   },
   "file_extension": ".py",
   "mimetype": "text/x-python",
   "name": "python",
   "nbconvert_exporter": "python",
   "pygments_lexer": "ipython3",
   "version": "3.13.1"
  }
 },
 "nbformat": 4,
 "nbformat_minor": 5
}
